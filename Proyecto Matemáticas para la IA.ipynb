{
 "cells": [
  {
   "cell_type": "markdown",
   "id": "2181821f-4188-49c4-9be0-2a604534da9d",
   "metadata": {},
   "source": [
    "[![Open In Colab](https://colab.research.google.com/assets/colab-badge.svg)](https://github.com/ivanvladimir/Proyectos-MeIA/blob/main/Proyecto%20Matem%C3%A1ticas%20para%20la%20IA.ipynb)\n",
    "[![Kaggle](https://kaggle.com/static/images/open-in-kaggle.svg)](https://kaggle.com/kernels/welcome?src=https://github.com/ivanvladimir/Proyectos-MeIA/blob/main/Proyecto%20Matem%C3%A1ticas%20para%20la%20IA.ipynb)\n",
    "\n",
    "# Matemáticas para la IA\n",
    "\n",
    "Esta notebook especifica el proyecto para la sesión de \"Matemáticas para la IA\" del grupo 3 de [Macroentrenamiento en Inteligencia Artificial](https://www.taller-tic.redmacro.unam.mx/)\n",
    "\n",
    "## Instrucciones\n",
    "\n",
    "\n",
    "\n",
    "\n",
    "## Licencia de la notebook\n",
    "\n",
    "<a rel=\"license\" href=\"http://creativecommons.org/licenses/by/4.0/\"><img alt=\"Creative Commons License\" style=\"border-width:0\" src=\"https://i.creativecommons.org/l/by/4.0/80x15.png\" /></a>\n",
    "</br>This work is licensed under a <a rel=\"license\" href=\"http://creativecommons.org/licenses/by/4.0/\">Creative Commons Attribution 4.0 International License</a>.\n",
    "\n",
    "## General information\n",
    "\n",
    "> **Author(s)**: <a href=\"https://twitter.com/ivanvladimir\">@ivanvladimir</a></br>\n",
    "> **Last updated**: 11/06/2023"
   ]
  },
  {
   "cell_type": "markdown",
   "id": "cfcd62f7-0e0f-44de-a06f-ffc5369e4ced",
   "metadata": {},
   "source": [
    "# 1 Instalar librerías necesarias\n",
    "\n",
    "Posicionarse en la celda de abajo y ejecutarla haciendo click en el ícono de play (⏵︎)"
   ]
  },
  {
   "cell_type": "code",
   "execution_count": null,
   "id": "735c3217-3646-4287-b069-ee13a68c978f",
   "metadata": {},
   "outputs": [],
   "source": [
    "!pip install jupyterlab_widgets\n",
    "!pip install ipywidgets\n",
    "!pip install numpy\n",
    "!pip install matplotlib\n",
    "\n",
    "import ipywidgets as widgets\n",
    "from IPython.display import display\n",
    "import numpy as np\n",
    "from math import pi, sin, cos\n",
    "import matplotlib.pyplot as plt"
   ]
  },
  {
   "cell_type": "markdown",
   "id": "eed27a27-efc2-49aa-8ea2-34887fdfe944",
   "metadata": {},
   "source": [
    "# 2 Llenar con coordenadas en el siguiente cuadro\n",
    "\n",
    "Hacer click en la siguiente celda, y llenar en el cuadro con coordenadas con un dibujo interesante.\n",
    "\n",
    "Las coordenadas siguen el siguiente formato, por cada línea dos números son separados por coma:\n",
    "\n",
    "    0,0\n",
    "    0.5,0.5\n",
    "    0.5,1.5\n",
    "    0,1\n",
    "    0,0"
   ]
  },
  {
   "cell_type": "code",
   "execution_count": null,
   "id": "dbbd7b86-cbfa-48ec-a2f9-eabc332fa58a",
   "metadata": {
    "scrolled": true
   },
   "outputs": [],
   "source": [
    "def plot_coordinate(x,y,x_LT1,y_LT1):\n",
    "    # Create the figure and axes objects\n",
    "    fig, ax = plt.subplots()\n",
    "    \n",
    "    # Plot the points.  x and y are original vectors, x_LT1 and y_LT1 are images\n",
    "    ax.plot(x,y,'ro')\n",
    "    ax.plot(x_LT1,y_LT1,'bo')\n",
    "    \n",
    "    # Connect the points by lines\n",
    "    ax.plot(x,y,'r',ls=\"--\")\n",
    "    ax.plot(x_LT1,y_LT1,'b')\n",
    "    \n",
    "    # Edit some settings \n",
    "    ax.axvline(x=0,color=\"k\",ls=\":\")\n",
    "    ax.axhline(y=0,color=\"k\",ls=\":\")\n",
    "    ax.grid(True)\n",
    "    ax.axis([-5,5,-5,5])\n",
    "    ax.set_aspect('equal')\n",
    "    ax.set_title(\"Transforación\")\n",
    "    return plt\n",
    "\n",
    "\n",
    "\n",
    "coordenadas=widgets.Textarea(\n",
    "    value='0,0\\n0.5,0.5\\n0.5,1.5\\n0,1\\n0,0',\n",
    "    placeholder='0,0\\n0.5,0.5\\n0.5,1.5\\n0,1\\n0,0',\n",
    "    description='Aquí poner las coordenadas',\n",
    "    disabled=False,\n",
    "    rows=20, \n",
    "    layout=widgets.Layout(height=\"300\", width=\"auto\")\n",
    ")\n",
    "display(coordenadas)"
   ]
  },
  {
   "cell_type": "markdown",
   "id": "4a7d1ea7-b299-41be-92a5-25614ab8e9b8",
   "metadata": {},
   "source": [
    "# Crear matriz de transformación\n",
    "\n",
    "Con la ayuda de la página https://web.ma.utexas.edu/users/ysulyma/matrix/ llena los valores de la matriz de transformación para tu dibujo; comparte tu figura en el foro"
   ]
  },
  {
   "cell_type": "code",
   "execution_count": null,
   "id": "bae49f00-52cf-4e7c-a48c-70f89ecfe5e0",
   "metadata": {},
   "outputs": [],
   "source": [
    "l=[]\n",
    "for line in coordenadas.value.splitlines():\n",
    "    if len(line.strip())>0:\n",
    "        l.append([float(x) for x in line.split(',')])\n",
    "    \n",
    "coords = np.array(l)\n",
    "coords = coords.transpose()\n",
    "\n",
    "\n",
    "def transform(a_11=2,a_12=0,a_21=0,a_22=1):\n",
    "    global coords\n",
    "    A = np.array([[a_11,a_12],[a_21,a_22]])\n",
    "\n",
    "    x = coords[0,:]\n",
    "    y = coords[1,:]\n",
    "\n",
    "    A_coords = A@coords\n",
    "\n",
    "    x_LT1 = A_coords[0,:]\n",
    "    y_LT1 = A_coords[1,:]\n",
    "\n",
    "    plot_coordinate(x,y,x_LT1,y_LT1)\n",
    "\n",
    "widgets.interact(transform,\n",
    "                 a_11=widgets.FloatText(min=-4, max=4, step=0.1, value=2),\n",
    "                 a_12=widgets.FloatText(min=-4, max=4, step=0.1, value=0),\n",
    "                 a_21=widgets.FloatText(min=-4, max=4, step=0.1, value=0),\n",
    "                 a_22=widgets.FloatText(min=-4, max=4, step=0.1, value=1),\n",
    "                )"
   ]
  }
 ],
 "metadata": {
  "kernelspec": {
   "display_name": "Python 3 (ipykernel)",
   "language": "python",
   "name": "python3"
  },
  "language_info": {
   "codemirror_mode": {
    "name": "ipython",
    "version": 3
   },
   "file_extension": ".py",
   "mimetype": "text/x-python",
   "name": "python",
   "nbconvert_exporter": "python",
   "pygments_lexer": "ipython3",
   "version": "3.8.10"
  }
 },
 "nbformat": 4,
 "nbformat_minor": 5
}
