{
 "cells": [
  {
   "cell_type": "markdown",
   "id": "8f4a016c-9b84-414b-903a-9d98c5c2b803",
   "metadata": {},
   "source": [
    "[![Open In Colab](https://colab.research.google.com/assets/colab-badge.svg)](https://colab.research.google.com/github/ivanvladimir/Proyectos-MeIA/blob/main/Programacion4.ipynb)\n",
    "[![Kaggle](https://kaggle.com/static/images/open-in-kaggle.svg)](https://kaggle.com/kernels/welcome?src=https://github.com/ivanvladimir/Proyectos-MeIA/blob/main/Programacion4.ipynb)\n",
    "\n",
    "# Programación en Python\n",
    "\n",
    "Esta notebook especifica a la sesión de \"Programación en python\" (parte 4) del grupo 3 de [Macroentrenamiento en Inteligencia Artificial](https://www.taller-tic.redmacro.unam.mx/)\n",
    "\n",
    "## Instrucciones\n",
    "\n",
    "Seguir indicaciones de guía.\n",
    "\n",
    "## Licencia de la notebook\n",
    "\n",
    "<a rel=\"license\" href=\"http://creativecommons.org/licenses/by/4.0/\"><img alt=\"Creative Commons License\" style=\"border-width:0\" src=\"https://i.creativecommons.org/l/by/4.0/80x15.png\" /></a>\n",
    "</br>This work is licensed under a <a rel=\"license\" href=\"http://creativecommons.org/licenses/by/4.0/\">Creative Commons Attribution 4.0 International License</a>.\n",
    "\n",
    "## General information\n",
    "\n",
    "> **Author(s)**: <a href=\"https://twitter.com/ivanvladimir\">@ivanvladimir</a></br>\n",
    "> **Last updated**: 12/06/2023"
   ]
  },
  {
   "cell_type": "markdown",
   "id": "d1848194-6f3b-4abc-bbe2-6b8d7e48f948",
   "metadata": {},
   "source": [
    "# 1 Instalar librerías"
   ]
  },
  {
   "cell_type": "code",
   "execution_count": null,
   "id": "4f3c528c-3b8f-40b6-8257-993440a40fd3",
   "metadata": {},
   "outputs": [],
   "source": [
    "# A lo mejor hay que instalarlo, descomentar la siguiente línea\n",
    "!pip install fastapi nest-asyncio pyngrok uvicorn"
   ]
  },
  {
   "cell_type": "markdown",
   "id": "8f692b44-e6d1-4d30-af0e-bb6db1602d66",
   "metadata": {},
   "source": [
    "# 2 Webapi en fast_api\n",
    "\n",
    "Aquí se define la api\n"
   ]
  },
  {
   "cell_type": "code",
   "execution_count": null,
   "id": "0eef70d1-c45d-4dce-b3c9-b0d929d129b8",
   "metadata": {},
   "outputs": [],
   "source": [
    "from fastapi import FastAPI\n",
    "from fastapi.middleware.cors import CORSMiddleware\n",
    "\n",
    "app = FastAPI()\n",
    "\n",
    "app.add_middleware(\n",
    "    CORSMiddleware,\n",
    "    allow_origins=['*'],\n",
    "    allow_credentials=True,\n",
    "    allow_methods=['*'],\n",
    "    allow_headers=['*'],\n",
    ")\n",
    "\n",
    "@app.get('/')\n",
    "async def root():\n",
    "    return {'hello': 'world'}\n",
    "\n",
    "@app.get(\"/suma/{num1}/{num2}\")\n",
    "async def suma(num1,num2):\n",
    "    return {'resultado': int(num1)+int(num2)}         "
   ]
  },
  {
   "cell_type": "markdown",
   "id": "ecaf977f-c14f-4eea-8b4d-aba2bba43cc5",
   "metadata": {},
   "source": [
    "# 3 Aquí el código que controla el servicio de la API"
   ]
  },
  {
   "cell_type": "code",
   "execution_count": null,
   "id": "80d9cfd6-ca65-451c-9bb8-73c42536ad85",
   "metadata": {},
   "outputs": [],
   "source": [
    "import nest_asyncio\n",
    "from pyngrok import ngrok\n",
    "import uvicorn\n",
    "\n",
    "ngrok_tunnel = ngrok.connect(8000)\n",
    "print('Public URL:', ngrok_tunnel.public_url)\n",
    "nest_asyncio.apply()\n",
    "uvicorn.run(app, port=8000)"
   ]
  }
 ],
 "metadata": {
  "kernelspec": {
   "display_name": "Python 3 (ipykernel)",
   "language": "python",
   "name": "python3"
  },
  "language_info": {
   "codemirror_mode": {
    "name": "ipython",
    "version": 3
   },
   "file_extension": ".py",
   "mimetype": "text/x-python",
   "name": "python",
   "nbconvert_exporter": "python",
   "pygments_lexer": "ipython3",
   "version": "3.8.10"
  }
 },
 "nbformat": 4,
 "nbformat_minor": 5
}
