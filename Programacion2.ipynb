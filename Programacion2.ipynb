{
 "cells": [
  {
   "cell_type": "markdown",
   "id": "8f4a016c-9b84-414b-903a-9d98c5c2b803",
   "metadata": {},
   "source": [
    "[![Open In Colab](https://colab.research.google.com/assets/colab-badge.svg)](https://colab.research.google.com/github/ivanvladimir/Proyectos-MeIA/blob/main/Programacion2.ipynb)\n",
    "[![Kaggle](https://kaggle.com/static/images/open-in-kaggle.svg)](https://kaggle.com/kernels/welcome?src=https://github.com/ivanvladimir/Proyectos-MeIA/blob/main/Programacion2.ipynb)\n",
    "\n",
    "# Programación en Python\n",
    "\n",
    "Esta notebook especifica a la sesión de \"Programación en python\" (parte 2) del grupo 3 de [Macroentrenamiento en Inteligencia Artificial](https://www.taller-tic.redmacro.unam.mx/)\n",
    "\n",
    "## Instrucciones\n",
    "\n",
    "Seguir indicaciones de guía.\n",
    "\n",
    "## Licencia de la notebook\n",
    "\n",
    "<a rel=\"license\" href=\"http://creativecommons.org/licenses/by/4.0/\"><img alt=\"Creative Commons License\" style=\"border-width:0\" src=\"https://i.creativecommons.org/l/by/4.0/80x15.png\" /></a>\n",
    "</br>This work is licensed under a <a rel=\"license\" href=\"http://creativecommons.org/licenses/by/4.0/\">Creative Commons Attribution 4.0 International License</a>.\n",
    "\n",
    "## General information\n",
    "\n",
    "> **Author(s)**: <a href=\"https://twitter.com/ivanvladimir\">@ivanvladimir</a></br>\n",
    "> **Last updated**: 12/06/2023"
   ]
  },
  {
   "cell_type": "markdown",
   "id": "d1848194-6f3b-4abc-bbe2-6b8d7e48f948",
   "metadata": {},
   "source": [
    "# 1 Importando modulos\n"
   ]
  },
  {
   "cell_type": "code",
   "execution_count": null,
   "id": "e0c4344b-152c-4ce3-965f-e253df070745",
   "metadata": {},
   "outputs": [],
   "source": [
    "import numpy as np # se importa un módulo y se le pone un sobre nombre\n",
    "import matplotlib.pyplot as plt\n",
    "from math import pi, sin, cos # de un modulo se importa una parte"
   ]
  },
  {
   "cell_type": "code",
   "execution_count": null,
   "id": "d4d67867-58d1-40e3-b55e-ed0ae1eebd3e",
   "metadata": {},
   "outputs": [],
   "source": [
    "coordenadas=[ # Coordenadas tomadas de José Olmedo\n",
    "    [2,2],\n",
    "    [-4,0],\n",
    "    [0,0],\n",
    "    [0,-4],\n",
    "    [2,2]\n",
    "]\n",
    "\n",
    "D = np.array(coordenadas) # Arreglo de datos\n",
    "T = np.array([[0.7071,-0.7071],[0.5,0.866]]) #Arreglo de transformada\n",
    "## Descomentar para agregar otra transformación\n",
    "#T2 = np.array([[0.2,0],[0,0.2]])\n",
    "#T = T2@T\n",
    "\n",
    "R = D@T # Múltiplicación matricial\n",
    "\n",
    "\n",
    "print(R)"
   ]
  },
  {
   "cell_type": "code",
   "execution_count": null,
   "id": "9a70afae-8a6b-4c4c-910e-9dfebca2eae2",
   "metadata": {},
   "outputs": [],
   "source": [
    "fig, ax = plt.subplots()\n",
    "\n",
    "# Dibuja puntos\n",
    "ax.plot(D[:,0],D[:,1],'ro')\n",
    "ax.plot(R[:,0],R[:,1],'bo')\n",
    "    \n",
    "# Connect the points by lines\n",
    "ax.plot(D[:,0],D[:,1],'r',ls=\"--\")\n",
    "ax.plot(R[:,0],R[:,1],'b')\n",
    "    \n",
    "# Edit some settings \n",
    "ax.axvline(x=0,color=\"k\",ls=\":\")\n",
    "ax.axhline(y=0,color=\"k\",ls=\":\")\n",
    "ax.grid(True)\n",
    "ax.axis([-5,5,-5,5])\n",
    "ax.set_aspect('equal')\n",
    "ax.set_title(\"Transforación\")"
   ]
  },
  {
   "cell_type": "markdown",
   "id": "8f692b44-e6d1-4d30-af0e-bb6db1602d66",
   "metadata": {},
   "source": [
    "# 2 Explorar otros módulos"
   ]
  },
  {
   "cell_type": "code",
   "execution_count": null,
   "id": "e4623d52-7b3e-4ec6-95f4-9231662948d8",
   "metadata": {},
   "outputs": [],
   "source": []
  }
 ],
 "metadata": {
  "kernelspec": {
   "display_name": "Python 3 (ipykernel)",
   "language": "python",
   "name": "python3"
  },
  "language_info": {
   "codemirror_mode": {
    "name": "ipython",
    "version": 3
   },
   "file_extension": ".py",
   "mimetype": "text/x-python",
   "name": "python",
   "nbconvert_exporter": "python",
   "pygments_lexer": "ipython3",
   "version": "3.8.10"
  }
 },
 "nbformat": 4,
 "nbformat_minor": 5
}
