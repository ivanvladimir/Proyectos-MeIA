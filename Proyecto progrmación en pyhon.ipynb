{
 "cells": [
  {
   "cell_type": "markdown",
   "id": "8f4a016c-9b84-414b-903a-9d98c5c2b803",
   "metadata": {},
   "source": [
    "[![Open In Colab](https://colab.research.google.com/assets/colab-badge.svg)](https://colab.research.google.com/github/ivanvladimir/Proyectos-MeIA/blob/main/Proyecto%20progrmaci%C3%B3n%20en%20pyhon.ipynb)\n",
    "[![Kaggle](https://kaggle.com/static/images/open-in-kaggle.svg)](https://kaggle.com/kernels/welcome?src=https://github.com/ivanvladimir/Proyectos-MeIA/blob/main/Proyecto%20progrmaci%C3%B3n%20en%20pyhon.ipynb)\n",
    "\n",
    "# Proyecto sección: Programación en Python\n",
    "\n",
    "Esta notebook especifica el proyecto para la sesión de \"Programación en python\" del grupo 3 de [Macroentrenamiento en Inteligencia Artificial](https://www.taller-tic.redmacro.unam.mx/)\n",
    "\n",
    "## Instrucciones\n",
    "\n",
    "1. Ejecutar toda la notebook para ver su funcionamiento\n",
    "2. Modificar las sección de Función del comportamiento para\n",
    "    1. El programa tiene que escoger un número entre 1 y 6 de forma aleatoria, ver la documentación del módulo random (https://docs.python.org/es/3.8/library/random.html)\n",
    "    2. En lugar del nombre, pedir al usuario que escoja otro número del 1 al 6\n",
    "    3. Si el número random y el número que introduce el usuario son iguales, imprimir un mensaje de felicitación\n",
    "    4. Si los noumeros no coinciden, invitar introducir un nuevo número\n",
    "    5. Púntos extras, si logran imprimir emojis\n",
    "    6. Punto extra si le recuerdan cuantos intentos lleva sin atinarle\n",
    "  \n",
    "Consideraciones: Al comparar los números tienen que asegurarse que sean el mismo tipo: cadena con cadena, número con número\n",
    "\n",
    "## Licencia de la notebook\n",
    "\n",
    "<a rel=\"license\" href=\"http://creativecommons.org/licenses/by/4.0/\"><img alt=\"Creative Commons License\" style=\"border-width:0\" src=\"https://i.creativecommons.org/l/by/4.0/80x15.png\" /></a>\n",
    "</br>This work is licensed under a <a rel=\"license\" href=\"http://creativecommons.org/licenses/by/4.0/\">Creative Commons Attribution 4.0 International License</a>.\n",
    "\n",
    "## General information\n",
    "\n",
    "> **Author(s)**: <a href=\"https://twitter.com/ivanvladimir\">@ivanvladimir</a></br>\n",
    "> **Last updated**: 12/06/2023"
   ]
  },
  {
   "cell_type": "markdown",
   "id": "d1848194-6f3b-4abc-bbe2-6b8d7e48f948",
   "metadata": {},
   "source": [
    "# 1 Instalar librerías"
   ]
  },
  {
   "cell_type": "code",
   "execution_count": null,
   "id": "4f3c528c-3b8f-40b6-8257-993440a40fd3",
   "metadata": {},
   "outputs": [],
   "source": [
    "!pip install gradio"
   ]
  },
  {
   "cell_type": "code",
   "execution_count": null,
   "id": "19ca7423-4564-46e2-aed1-a6e14d308462",
   "metadata": {},
   "outputs": [],
   "source": [
    "import gradio"
   ]
  },
  {
   "cell_type": "markdown",
   "id": "a4751ea9-df5a-4dfa-b192-004537711402",
   "metadata": {},
   "source": [
    "# Funciones de comportamiento"
   ]
  },
  {
   "cell_type": "code",
   "execution_count": null,
   "id": "085ced73-6611-49c9-89c7-30cddb8878df",
   "metadata": {},
   "outputs": [],
   "source": [
    "def greet(name):\n",
    "  return \"Hello \" + name + \"!\"\n",
    "\n",
    "greet(\"World\")"
   ]
  },
  {
   "cell_type": "markdown",
   "id": "67d50ad2-c9e5-4f9d-b6da-3e8da4881a97",
   "metadata": {},
   "source": [
    "# Echar andar la interfaz"
   ]
  },
  {
   "cell_type": "code",
   "execution_count": null,
   "id": "2beebe74-ee55-4a61-8fbf-05f1f813a658",
   "metadata": {},
   "outputs": [],
   "source": [
    "gradio.Interface(greet, \"text\", \"text\").launch(share=True)"
   ]
  },
  {
   "cell_type": "code",
   "execution_count": null,
   "id": "46809102-877b-4ac0-85a4-56c81963e4b1",
   "metadata": {},
   "outputs": [],
   "source": []
  }
 ],
 "metadata": {
  "kernelspec": {
   "display_name": "Python 3 (ipykernel)",
   "language": "python",
   "name": "python3"
  },
  "language_info": {
   "codemirror_mode": {
    "name": "ipython",
    "version": 3
   },
   "file_extension": ".py",
   "mimetype": "text/x-python",
   "name": "python",
   "nbconvert_exporter": "python",
   "pygments_lexer": "ipython3",
   "version": "3.8.10"
  }
 },
 "nbformat": 4,
 "nbformat_minor": 5
}
