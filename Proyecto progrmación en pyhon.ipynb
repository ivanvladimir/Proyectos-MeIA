{
 "cells": [
  {
   "cell_type": "markdown",
   "id": "8f4a016c-9b84-414b-903a-9d98c5c2b803",
   "metadata": {},
   "source": [
    "[![Open In Colab](https://colab.research.google.com/assets/colab-badge.svg)](https://colab.research.google.com/github/ivanvladimir/Proyectos-MeIA/blob/main/Programacion4.ipynb)\n",
    "[![Kaggle](https://kaggle.com/static/images/open-in-kaggle.svg)](https://kaggle.com/kernels/welcome?src=https://github.com/ivanvladimir/Proyectos-MeIA/blob/main/Programacion4.ipynb)\n",
    "\n",
    "# Programación en Python\n",
    "\n",
    "Esta notebook especifica el proyecto para la sesión de \"Programación en python\" (parte 4) del grupo 3 de [Macroentrenamiento en Inteligencia Artificial](https://www.taller-tic.redmacro.unam.mx/)\n",
    "\n",
    "## Instrucciones\n",
    "\n",
    "Seguir indicaciones de guía.\n",
    "\n",
    "## Licencia de la notebook\n",
    "\n",
    "<a rel=\"license\" href=\"http://creativecommons.org/licenses/by/4.0/\"><img alt=\"Creative Commons License\" style=\"border-width:0\" src=\"https://i.creativecommons.org/l/by/4.0/80x15.png\" /></a>\n",
    "</br>This work is licensed under a <a rel=\"license\" href=\"http://creativecommons.org/licenses/by/4.0/\">Creative Commons Attribution 4.0 International License</a>.\n",
    "\n",
    "## General information\n",
    "\n",
    "> **Author(s)**: <a href=\"https://twitter.com/ivanvladimir\">@ivanvladimir</a></br>\n",
    "> **Last updated**: 12/06/2023"
   ]
  },
  {
   "cell_type": "markdown",
   "id": "d1848194-6f3b-4abc-bbe2-6b8d7e48f948",
   "metadata": {},
   "source": [
    "# 1 Instalar librerías"
   ]
  },
  {
   "cell_type": "code",
   "execution_count": 4,
   "id": "4f3c528c-3b8f-40b6-8257-993440a40fd3",
   "metadata": {},
   "outputs": [
    {
     "name": "stdout",
     "output_type": "stream",
     "text": [
      "Requirement already satisfied: gradio in ./env/lib/python3.8/site-packages (3.34.0)\n",
      "Requirement already satisfied: pandas in ./env/lib/python3.8/site-packages (from gradio) (2.0.2)\n",
      "Requirement already satisfied: orjson in ./env/lib/python3.8/site-packages (from gradio) (3.9.1)\n",
      "Requirement already satisfied: semantic-version in ./env/lib/python3.8/site-packages (from gradio) (2.10.0)\n",
      "Requirement already satisfied: huggingface-hub>=0.14.0 in ./env/lib/python3.8/site-packages (from gradio) (0.15.1)\n",
      "Requirement already satisfied: pydub in ./env/lib/python3.8/site-packages (from gradio) (0.25.1)\n",
      "Requirement already satisfied: pillow in ./env/lib/python3.8/site-packages (from gradio) (9.5.0)\n",
      "Requirement already satisfied: numpy in ./env/lib/python3.8/site-packages (from gradio) (1.24.3)\n",
      "Requirement already satisfied: markdown-it-py[linkify]>=2.0.0 in ./env/lib/python3.8/site-packages (from gradio) (3.0.0)\n",
      "Requirement already satisfied: pydantic in ./env/lib/python3.8/site-packages (from gradio) (1.10.9)\n",
      "Requirement already satisfied: pygments>=2.12.0 in ./env/lib/python3.8/site-packages (from gradio) (2.15.1)\n",
      "Requirement already satisfied: markupsafe in ./env/lib/python3.8/site-packages (from gradio) (2.1.3)\n",
      "Requirement already satisfied: fastapi in ./env/lib/python3.8/site-packages (from gradio) (0.97.0)\n",
      "Requirement already satisfied: websockets>=10.0 in ./env/lib/python3.8/site-packages (from gradio) (11.0.3)\n",
      "Requirement already satisfied: jinja2 in ./env/lib/python3.8/site-packages (from gradio) (3.1.2)\n",
      "Requirement already satisfied: matplotlib in ./env/lib/python3.8/site-packages (from gradio) (3.7.1)\n",
      "Requirement already satisfied: mdit-py-plugins<=0.3.3 in ./env/lib/python3.8/site-packages (from gradio) (0.3.3)\n",
      "Requirement already satisfied: gradio-client>=0.2.6 in ./env/lib/python3.8/site-packages (from gradio) (0.2.6)\n",
      "Requirement already satisfied: httpx in ./env/lib/python3.8/site-packages (from gradio) (0.24.1)\n",
      "Requirement already satisfied: aiofiles in ./env/lib/python3.8/site-packages (from gradio) (23.1.0)\n",
      "Requirement already satisfied: python-multipart in ./env/lib/python3.8/site-packages (from gradio) (0.0.6)\n",
      "Requirement already satisfied: uvicorn>=0.14.0 in ./env/lib/python3.8/site-packages (from gradio) (0.22.0)\n",
      "Requirement already satisfied: ffmpy in ./env/lib/python3.8/site-packages (from gradio) (0.3.0)\n",
      "Requirement already satisfied: requests in ./env/lib/python3.8/site-packages (from gradio) (2.31.0)\n",
      "Requirement already satisfied: aiohttp in ./env/lib/python3.8/site-packages (from gradio) (3.8.4)\n",
      "Requirement already satisfied: altair>=4.2.0 in ./env/lib/python3.8/site-packages (from gradio) (5.0.1)\n",
      "Requirement already satisfied: pyyaml in ./env/lib/python3.8/site-packages (from gradio) (6.0)\n",
      "Requirement already satisfied: typing-extensions in ./env/lib/python3.8/site-packages (from gradio) (4.6.3)\n",
      "Requirement already satisfied: pytz>=2020.1 in ./env/lib/python3.8/site-packages (from pandas->gradio) (2023.3)\n",
      "Requirement already satisfied: tzdata>=2022.1 in ./env/lib/python3.8/site-packages (from pandas->gradio) (2023.3)\n",
      "Requirement already satisfied: python-dateutil>=2.8.2 in ./env/lib/python3.8/site-packages (from pandas->gradio) (2.8.2)\n",
      "Requirement already satisfied: filelock in ./env/lib/python3.8/site-packages (from huggingface-hub>=0.14.0->gradio) (3.12.2)\n",
      "Requirement already satisfied: packaging>=20.9 in ./env/lib/python3.8/site-packages (from huggingface-hub>=0.14.0->gradio) (23.1)\n",
      "Requirement already satisfied: tqdm>=4.42.1 in ./env/lib/python3.8/site-packages (from huggingface-hub>=0.14.0->gradio) (4.65.0)\n",
      "Requirement already satisfied: fsspec in ./env/lib/python3.8/site-packages (from huggingface-hub>=0.14.0->gradio) (2023.6.0)\n",
      "Requirement already satisfied: mdurl~=0.1 in ./env/lib/python3.8/site-packages (from markdown-it-py[linkify]>=2.0.0->gradio) (0.1.2)\n",
      "Requirement already satisfied: linkify-it-py<3,>=1; extra == \"linkify\" in ./env/lib/python3.8/site-packages (from markdown-it-py[linkify]>=2.0.0->gradio) (2.0.2)\n",
      "Requirement already satisfied: starlette<0.28.0,>=0.27.0 in ./env/lib/python3.8/site-packages (from fastapi->gradio) (0.27.0)\n",
      "Requirement already satisfied: fonttools>=4.22.0 in ./env/lib/python3.8/site-packages (from matplotlib->gradio) (4.39.4)\n",
      "Requirement already satisfied: kiwisolver>=1.0.1 in ./env/lib/python3.8/site-packages (from matplotlib->gradio) (1.4.4)\n",
      "Requirement already satisfied: cycler>=0.10 in ./env/lib/python3.8/site-packages (from matplotlib->gradio) (0.11.0)\n",
      "Requirement already satisfied: contourpy>=1.0.1 in ./env/lib/python3.8/site-packages (from matplotlib->gradio) (1.0.7)\n",
      "Requirement already satisfied: importlib-resources>=3.2.0; python_version < \"3.10\" in ./env/lib/python3.8/site-packages (from matplotlib->gradio) (5.12.0)\n",
      "Requirement already satisfied: pyparsing>=2.3.1 in ./env/lib/python3.8/site-packages (from matplotlib->gradio) (3.0.9)\n",
      "Requirement already satisfied: certifi in ./env/lib/python3.8/site-packages (from httpx->gradio) (2023.5.7)\n",
      "Requirement already satisfied: idna in ./env/lib/python3.8/site-packages (from httpx->gradio) (3.4)\n",
      "Requirement already satisfied: sniffio in ./env/lib/python3.8/site-packages (from httpx->gradio) (1.3.0)\n",
      "Requirement already satisfied: httpcore<0.18.0,>=0.15.0 in ./env/lib/python3.8/site-packages (from httpx->gradio) (0.17.2)\n",
      "Requirement already satisfied: click>=7.0 in ./env/lib/python3.8/site-packages (from uvicorn>=0.14.0->gradio) (8.1.3)\n",
      "Requirement already satisfied: h11>=0.8 in ./env/lib/python3.8/site-packages (from uvicorn>=0.14.0->gradio) (0.14.0)\n",
      "Requirement already satisfied: charset-normalizer<4,>=2 in ./env/lib/python3.8/site-packages (from requests->gradio) (3.1.0)\n",
      "Requirement already satisfied: urllib3<3,>=1.21.1 in ./env/lib/python3.8/site-packages (from requests->gradio) (2.0.3)\n",
      "Requirement already satisfied: attrs>=17.3.0 in ./env/lib/python3.8/site-packages (from aiohttp->gradio) (23.1.0)\n",
      "Requirement already satisfied: async-timeout<5.0,>=4.0.0a3 in ./env/lib/python3.8/site-packages (from aiohttp->gradio) (4.0.2)\n",
      "Requirement already satisfied: yarl<2.0,>=1.0 in ./env/lib/python3.8/site-packages (from aiohttp->gradio) (1.9.2)\n",
      "Requirement already satisfied: multidict<7.0,>=4.5 in ./env/lib/python3.8/site-packages (from aiohttp->gradio) (6.0.4)\n",
      "Requirement already satisfied: aiosignal>=1.1.2 in ./env/lib/python3.8/site-packages (from aiohttp->gradio) (1.3.1)\n",
      "Requirement already satisfied: frozenlist>=1.1.1 in ./env/lib/python3.8/site-packages (from aiohttp->gradio) (1.3.3)\n",
      "Requirement already satisfied: toolz in ./env/lib/python3.8/site-packages (from altair>=4.2.0->gradio) (0.12.0)\n",
      "Requirement already satisfied: jsonschema>=3.0 in ./env/lib/python3.8/site-packages (from altair>=4.2.0->gradio) (4.17.3)\n",
      "Requirement already satisfied: six>=1.5 in ./env/lib/python3.8/site-packages (from python-dateutil>=2.8.2->pandas->gradio) (1.16.0)\n",
      "Requirement already satisfied: uc-micro-py in ./env/lib/python3.8/site-packages (from linkify-it-py<3,>=1; extra == \"linkify\"->markdown-it-py[linkify]>=2.0.0->gradio) (1.0.2)\n",
      "Requirement already satisfied: anyio<5,>=3.4.0 in ./env/lib/python3.8/site-packages (from starlette<0.28.0,>=0.27.0->fastapi->gradio) (3.7.0)\n",
      "Requirement already satisfied: zipp>=3.1.0; python_version < \"3.10\" in ./env/lib/python3.8/site-packages (from importlib-resources>=3.2.0; python_version < \"3.10\"->matplotlib->gradio) (3.15.0)\n",
      "Requirement already satisfied: pkgutil-resolve-name>=1.3.10; python_version < \"3.9\" in ./env/lib/python3.8/site-packages (from jsonschema>=3.0->altair>=4.2.0->gradio) (1.3.10)\n",
      "Requirement already satisfied: pyrsistent!=0.17.0,!=0.17.1,!=0.17.2,>=0.14.0 in ./env/lib/python3.8/site-packages (from jsonschema>=3.0->altair>=4.2.0->gradio) (0.19.3)\n",
      "Requirement already satisfied: exceptiongroup; python_version < \"3.11\" in ./env/lib/python3.8/site-packages (from anyio<5,>=3.4.0->starlette<0.28.0,>=0.27.0->fastapi->gradio) (1.1.1)\n"
     ]
    }
   ],
   "source": [
    "# A lo mejor hay que instalarlo, descomentar la siguiente línea\n",
    "!pip install gradio"
   ]
  },
  {
   "cell_type": "code",
   "execution_count": 5,
   "id": "19ca7423-4564-46e2-aed1-a6e14d308462",
   "metadata": {},
   "outputs": [],
   "source": [
    "import gradio"
   ]
  },
  {
   "cell_type": "markdown",
   "id": "a4751ea9-df5a-4dfa-b192-004537711402",
   "metadata": {},
   "source": [
    "# Funciones de comportamiento"
   ]
  },
  {
   "cell_type": "code",
   "execution_count": 6,
   "id": "085ced73-6611-49c9-89c7-30cddb8878df",
   "metadata": {},
   "outputs": [
    {
     "data": {
      "text/plain": [
       "'Hello World!'"
      ]
     },
     "execution_count": 6,
     "metadata": {},
     "output_type": "execute_result"
    }
   ],
   "source": [
    "def greet(name):\n",
    "  return \"Hello \" + name + \"!\"\n",
    "\n",
    "greet(\"World\")"
   ]
  },
  {
   "cell_type": "markdown",
   "id": "67d50ad2-c9e5-4f9d-b6da-3e8da4881a97",
   "metadata": {},
   "source": [
    "# 3 Interfaz"
   ]
  },
  {
   "cell_type": "code",
   "execution_count": 7,
   "id": "2beebe74-ee55-4a61-8fbf-05f1f813a658",
   "metadata": {},
   "outputs": [
    {
     "name": "stdout",
     "output_type": "stream",
     "text": [
      "Running on local URL:  http://127.0.0.1:7860\n",
      "Running on public URL: https://902c322ce802db3764.gradio.live\n",
      "\n",
      "This share link expires in 72 hours. For free permanent hosting and GPU upgrades, run `gradio deploy` from Terminal to deploy to Spaces (https://huggingface.co/spaces)\n"
     ]
    },
    {
     "data": {
      "text/html": [
       "<div><iframe src=\"https://902c322ce802db3764.gradio.live\" width=\"100%\" height=\"500\" allow=\"autoplay; camera; microphone; clipboard-read; clipboard-write;\" frameborder=\"0\" allowfullscreen></iframe></div>"
      ],
      "text/plain": [
       "<IPython.core.display.HTML object>"
      ]
     },
     "metadata": {},
     "output_type": "display_data"
    },
    {
     "data": {
      "text/plain": []
     },
     "execution_count": 7,
     "metadata": {},
     "output_type": "execute_result"
    }
   ],
   "source": [
    "gradio.Interface(greet, \"text\", \"text\").launch(share=True)"
   ]
  },
  {
   "cell_type": "code",
   "execution_count": null,
   "id": "46809102-877b-4ac0-85a4-56c81963e4b1",
   "metadata": {},
   "outputs": [],
   "source": []
  }
 ],
 "metadata": {
  "kernelspec": {
   "display_name": "Python 3 (ipykernel)",
   "language": "python",
   "name": "python3"
  },
  "language_info": {
   "codemirror_mode": {
    "name": "ipython",
    "version": 3
   },
   "file_extension": ".py",
   "mimetype": "text/x-python",
   "name": "python",
   "nbconvert_exporter": "python",
   "pygments_lexer": "ipython3",
   "version": "3.8.10"
  }
 },
 "nbformat": 4,
 "nbformat_minor": 5
}
