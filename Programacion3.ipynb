{
 "cells": [
  {
   "cell_type": "markdown",
   "id": "8f4a016c-9b84-414b-903a-9d98c5c2b803",
   "metadata": {},
   "source": [
    "[![Open In Colab](https://colab.research.google.com/assets/colab-badge.svg)](https://colab.research.google.com/github/ivanvladimir/Proyectos-MeIA/blob/main/Programacion3.ipynb)\n",
    "[![Kaggle](https://kaggle.com/static/images/open-in-kaggle.svg)](https://kaggle.com/kernels/welcome?src=https://github.com/ivanvladimir/Proyectos-MeIA/blob/main/Programacion3.ipynb)\n",
    "\n",
    "# Programación en Python\n",
    "\n",
    "Esta notebook especifica a la sesión de \"Programación en python\" (parte 3) del grupo 3 de [Macroentrenamiento en Inteligencia Artificial](https://www.taller-tic.redmacro.unam.mx/)\n",
    "\n",
    "## Instrucciones\n",
    "\n",
    "Seguir indicaciones de guía.\n",
    "\n",
    "## Licencia de la notebook\n",
    "\n",
    "<a rel=\"license\" href=\"http://creativecommons.org/licenses/by/4.0/\"><img alt=\"Creative Commons License\" style=\"border-width:0\" src=\"https://i.creativecommons.org/l/by/4.0/80x15.png\" /></a>\n",
    "</br>This work is licensed under a <a rel=\"license\" href=\"http://creativecommons.org/licenses/by/4.0/\">Creative Commons Attribution 4.0 International License</a>.\n",
    "\n",
    "## General information\n",
    "\n",
    "> **Author(s)**: <a href=\"https://twitter.com/ivanvladimir\">@ivanvladimir</a></br>\n",
    "> **Last updated**: 12/06/2023"
   ]
  },
  {
   "cell_type": "markdown",
   "id": "d1848194-6f3b-4abc-bbe2-6b8d7e48f948",
   "metadata": {},
   "source": [
    "# 1 Importar Pandas"
   ]
  },
  {
   "cell_type": "code",
   "execution_count": null,
   "id": "4f3c528c-3b8f-40b6-8257-993440a40fd3",
   "metadata": {},
   "outputs": [],
   "source": [
    "# A lo mejor hay que instalarlo, descomentar la siguiente línea\n",
    "# !pip install pandas"
   ]
  },
  {
   "cell_type": "code",
   "execution_count": null,
   "id": "e0c4344b-152c-4ce3-965f-e253df070745",
   "metadata": {},
   "outputs": [],
   "source": [
    "import pandas as pd"
   ]
  },
  {
   "cell_type": "markdown",
   "id": "8f692b44-e6d1-4d30-af0e-bb6db1602d66",
   "metadata": {},
   "source": [
    "# 2 Abriendo una fuente de datos\n",
    "\n",
    "Los datos se obtienen del sito de datos abiertos de la ciudad de México, en particular de esta sección: https://datos.cdmx.gob.mx/dataset/afluencia-diaria-servicio-de-transportes-electricos"
   ]
  },
  {
   "cell_type": "code",
   "execution_count": null,
   "id": "0eef70d1-c45d-4dce-b3c9-b0d929d129b8",
   "metadata": {},
   "outputs": [],
   "source": [
    "url=\"https://datos.cdmx.gob.mx/dataset/ee806dd2-c919-46f2-858f-6a55a05b8ee6/resource/36fb2606-9f11-4877-9149-d0b40b996551/download/afluencia_desglosada_trolebus_05_2023.csv\"\n",
    "df=pd.read_csv(url)\n",
    "df"
   ]
  },
  {
   "cell_type": "code",
   "execution_count": null,
   "id": "3f341d7e-009f-4895-992f-44a0a42e8c80",
   "metadata": {},
   "outputs": [],
   "source": [
    "df.describe()"
   ]
  },
  {
   "cell_type": "code",
   "execution_count": null,
   "id": "e2fb6b33-fb7b-47da-ba52-d067215b1592",
   "metadata": {},
   "outputs": [],
   "source": [
    "df['tipo_pago'].value_counts().plot(kind='bar')"
   ]
  },
  {
   "cell_type": "code",
   "execution_count": null,
   "id": "ee585abe-5b6e-487c-9f7d-3706bbc6af25",
   "metadata": {},
   "outputs": [],
   "source": [
    "df.plot(x=\"fecha\",y=\"afluencia\")"
   ]
  },
  {
   "cell_type": "code",
   "execution_count": null,
   "id": "a1c3f184-d747-42e8-aead-499b1d37b368",
   "metadata": {},
   "outputs": [],
   "source": [
    "df[df['tipo_pago']==\"Boleto\"].plot(x=\"fecha\",y=\"afluencia\")"
   ]
  },
  {
   "cell_type": "code",
   "execution_count": null,
   "id": "82574a9a-6f6a-4a31-b756-303be8339d49",
   "metadata": {},
   "outputs": [],
   "source": [
    "df[(df['tipo_pago']==\"Boleto\") & (df['linea']==\"Línea 1\")].plot(x=\"fecha\",y=\"afluencia\")"
   ]
  }
 ],
 "metadata": {
  "kernelspec": {
   "display_name": "Python 3 (ipykernel)",
   "language": "python",
   "name": "python3"
  },
  "language_info": {
   "codemirror_mode": {
    "name": "ipython",
    "version": 3
   },
   "file_extension": ".py",
   "mimetype": "text/x-python",
   "name": "python",
   "nbconvert_exporter": "python",
   "pygments_lexer": "ipython3",
   "version": "3.8.10"
  }
 },
 "nbformat": 4,
 "nbformat_minor": 5
}
